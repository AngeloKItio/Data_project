{
 "cells": [
  {
   "cell_type": "code",
   "execution_count": 38,
   "id": "dcb02b15",
   "metadata": {},
   "outputs": [],
   "source": [
    "import numpy as np\n",
    "import seaborn as sns\n",
    "import pandas as pd\n",
    "import matplotlib.pyplot as plt\n",
    "from sklearn.model_selection import train_test_split\n",
    "from sklearn import datasets, linear_model\n",
    "from sklearn.metrics import mean_squared_error, mean_absolute_error\n",
    "import warnings\n",
    "from scipy.integrate import odeint\n",
    "from scipy.optimize import fsolve\n",
    "def func(a,b,N):\n",
    "    H=(b-a)/(N-1) # H is given in the question\n",
    "    t=[]\n",
    "    for i in range(N):\n",
    "        c=a+H*i\n",
    "        t=t+[c]\n",
    "    return t,H\n",
    "\n",
    "def EulerOdeSys(f,c,t):\n",
    "    M=len(c)\n",
    "    Z=np.zeros((N,M))\n",
    "    Z[0]=c\n",
    "    for k in range(0,N-1):\n",
    "        Z[k+1]=Z[k]+H*np.array(f(Z[k],t[k]))\n",
    "    return Z\n",
    "# def f(x):\n",
    "#     return x-Z[k]-h*F(x,t[k])\n",
    "\n",
    "# x = fsolve(f,0.01)\n",
    "# f(x)\n",
    "\n",
    "# print(x)"
   ]
  },
  {
   "cell_type": "code",
   "execution_count": 6,
   "id": "3965ccb2",
   "metadata": {},
   "outputs": [
    {
     "data": {
      "text/plain": [
       "array([[1.        , 1.        , 1.        ],\n",
       "       [0.5       , 1.25      , 1.08333333],\n",
       "       [0.25      , 1.1875    , 1.21527778],\n",
       "       [0.125     , 1.015625  , 1.30960648],\n",
       "       [0.0625    , 0.82421875, 1.34524498]])"
      ]
     },
     "execution_count": 6,
     "metadata": {},
     "output_type": "execute_result"
    }
   ],
   "source": [
    "def f2(x,t):\n",
    "    y=[(-1/2)*x[0],(1/2)*x[0]-(1/4)*x[1],(1/4)*x[1]-(1/6)*x[2]]\n",
    "    return y\n",
    "t,H=func(0,4,5)\n",
    "c=[1,1,1]\n",
    "N=5\n",
    "EulerOdeSys(f2,c,t)"
   ]
  },
  {
   "cell_type": "code",
   "execution_count": 7,
   "id": "5df32d40",
   "metadata": {},
   "outputs": [],
   "source": [
    "def f2(x,t):\n",
    "    y=[(-1/2)*x[0],(1/2)*x[0]-(1/4)*x[1],(1/4)*x[1]-(1/6)*x[2]]\n",
    "    return y\n",
    "t,H=func(0,1,100)\n",
    "c=np.array([1,1,1])\n",
    "N=100\n",
    "A=EulerOdeSys(f2,c,t)"
   ]
  },
  {
   "cell_type": "markdown",
   "id": "04aaf084",
   "metadata": {},
   "source": [
    "### Implicit Euler Method"
   ]
  },
  {
   "cell_type": "code",
   "execution_count": 8,
   "id": "2971b9c5",
   "metadata": {},
   "outputs": [],
   "source": [
    "import numpy as np\n",
    "from scipy.integrate import odeint\n",
    "from scipy.optimize import fsolve\n",
    "def func(a,b,N):\n",
    "    H=(b-a)/(N-1) # H is given in the question\n",
    "    t=[]\n",
    "    for i in range(N):\n",
    "        c=a+H*i\n",
    "        t=t+[c]\n",
    "    return t,H\n",
    "\n",
    "def Implicit(f,c,t):\n",
    "    M=len(c)\n",
    "    Z=np.zeros((N,M))\n",
    "    Z[0]=c\n",
    "    for k in range(0,N-1):\n",
    "        def func(y):\n",
    "            return y-Z[k]-H*np.array(f(y,t[k+1]))\n",
    "        y = fsolve(func,c)\n",
    "        Z[k+1]=y\n",
    "    return Z\n"
   ]
  },
  {
   "cell_type": "code",
   "execution_count": 9,
   "id": "a46ec589",
   "metadata": {},
   "outputs": [],
   "source": [
    "def f2(x,t):\n",
    "    y=[(-1/2)*x[0],(1/2)*x[0]-(1/4)*x[1],(1/4)*x[1]-(1/6)*x[2]]\n",
    "    return y\n",
    "t,H=func(0,1,100)\n",
    "c=np.array([1,1,1])\n",
    "N=100\n",
    "Z=Implicit(f2,c,t)\n"
   ]
  },
  {
   "cell_type": "code",
   "execution_count": 10,
   "id": "0270b550",
   "metadata": {},
   "outputs": [],
   "source": [
    "t=np.linspace(0,1,100)\n",
    "x=Z[:,0]\n",
    "y=Z[:,1]\n",
    "z=Z[:,2]\n",
    "ex=np.exp(-t/2)\n",
    "ey=-2*np.exp(-t/2)+3*np.exp(-t/4)\n",
    "ez=(3/2)*np.exp(-t/2)-9*np.exp(-t/4)+(17/2)*np.exp(-t/6)\n",
    "err1=abs(x-ex)\n",
    "err2=abs(y-ey)\n",
    "err3=abs(z-ez)"
   ]
  },
  {
   "cell_type": "code",
   "execution_count": 11,
   "id": "d1e750ea",
   "metadata": {},
   "outputs": [
    {
     "data": {
      "text/plain": [
       "[<matplotlib.lines.Line2D at 0x12dc90be580>]"
      ]
     },
     "execution_count": 11,
     "metadata": {},
     "output_type": "execute_result"
    },
    {
     "data": {
      "image/png": "[encoded data removed]",
      "text/plain": [
       "<Figure size 432x288 with 6 Axes>"
      ]
     },
     "metadata": {
      "needs_background": "light"
     },
     "output_type": "display_data"
    }
   ],
   "source": [
    "plt.subplot(2,3,1)\n",
    "plt.plot(t,x,'r',linewidth=4,label='approximate')\n",
    "plt.plot(t,ex,'--b',linewidth=4, label='exact')\n",
    "plt.subplot(2,3,2)\n",
    "plt.plot(t,y,'r',linewidth=4)\n",
    "plt.plot(t,ey,'--b',linewidth=4)\n",
    "plt.subplot(2,3,3)\n",
    "plt.plot(t,z,'r',linewidth=4)\n",
    "plt.plot(t,ez,'--b',linewidth=4)\n",
    "plt.subplot(2,3,4)\n",
    "plt.plot(t,err1,'r',linewidth=3)\n",
    "plt.subplot(2,3,5)\n",
    "plt.plot(t,err2,'r',linewidth=3)\n",
    "plt.subplot(2,3,6)\n",
    "plt.plot(t,err3,linewidth=3)"
   ]
  },
  {
   "cell_type": "markdown",
   "id": "7502cb69",
   "metadata": {},
   "source": [
    "### Modified Euler Formula"
   ]
  },
  {
   "cell_type": "code",
   "execution_count": 12,
   "id": "74f47540",
   "metadata": {},
   "outputs": [],
   "source": [
    "def ModifiedEuler(f,c,t):\n",
    "    M=len(c)\n",
    "    T=np.zeros((N,M))\n",
    "    T[0]=c\n",
    "    for k in range(0,N-1):\n",
    "        tp=T[k]+H*np.array(f(T[k],t[k]))\n",
    "        T[k+1]=T[k]+H*np.array(f(T[k],tp))\n",
    "    return T"
   ]
  },
  {
   "cell_type": "code",
   "execution_count": 13,
   "id": "554d078e",
   "metadata": {},
   "outputs": [],
   "source": [
    "t,H=func(0,1,100)\n",
    "c=np.array([1,1,1])\n",
    "N=100\n",
    "T=ModifiedEuler(f2,c,t)\n"
   ]
  },
  {
   "cell_type": "code",
   "execution_count": 14,
   "id": "1cf0154f",
   "metadata": {},
   "outputs": [],
   "source": [
    "t=np.linspace(0,1,100)\n",
    "x=T[:,0]\n",
    "y=T[:,1]\n",
    "z=T[:,2]\n",
    "ex=np.exp(-t/2)\n",
    "ey=-2*np.exp(-t/2)+3*np.exp(-t/4)\n",
    "ez=(3/2)*np.exp(-t/2)-9*np.exp(-t/4)+(17/2)*np.exp(-t/6)\n",
    "err1=abs(x-ex)\n",
    "err2=abs(y-ey)\n",
    "err3=abs(z-ez)"
   ]
  },
  {
   "cell_type": "code",
   "execution_count": 15,
   "id": "a363ea14",
   "metadata": {},
   "outputs": [
    {
     "data": {
      "text/plain": [
       "[<matplotlib.lines.Line2D at 0x12dc92f6550>]"
      ]
     },
     "execution_count": 15,
     "metadata": {},
     "output_type": "execute_result"
    },
    {
     "data": {
      "image/png": "[encoded data removed]",
      "text/plain": [
       "<Figure size 432x288 with 6 Axes>"
      ]
     },
     "metadata": {
      "needs_background": "light"
     },
     "output_type": "display_data"
    }
   ],
   "source": [
    "plt.subplot(2,3,1)\n",
    "plt.plot(t,x,'r',linewidth=4,label='approximate')\n",
    "plt.plot(t,ex,'--b',linewidth=4, label='exact')\n",
    "plt.subplot(2,3,2)\n",
    "plt.plot(t,y,'r',linewidth=4)\n",
    "plt.plot(t,ey,'--b',linewidth=4)\n",
    "plt.subplot(2,3,3)\n",
    "plt.plot(t,z,'r',linewidth=4)\n",
    "plt.plot(t,ez,'--b',linewidth=4)\n",
    "plt.subplot(2,3,4)\n",
    "plt.plot(t,err1,'r',linewidth=3)\n",
    "plt.subplot(2,3,5)\n",
    "plt.plot(t,err2,'r',linewidth=3)\n",
    "plt.subplot(2,3,6)\n",
    "plt.plot(t,err3,linewidth=3)"
   ]
  },
  {
   "cell_type": "markdown",
   "id": "76a2c0d9",
   "metadata": {},
   "source": [
    "### Second order Runge Kutta"
   ]
  },
  {
   "cell_type": "code",
   "execution_count": 16,
   "id": "a3615c5b",
   "metadata": {},
   "outputs": [],
   "source": [
    "def SecondRungeKutta(f,c,t):\n",
    "    M=len(c)\n",
    "    U=np.zeros((N,M))\n",
    "    U[0]=c\n",
    "    for k in range(0,N-1):\n",
    "        k1=H*np.array(f(U[k],t[k]))\n",
    "        k2=H*np.array(f(U[k]+k1,t[k+1]))\n",
    "        U[k+1]=U[k]+(1/2)*(k1+k2)\n",
    "    return U"
   ]
  },
  {
   "cell_type": "code",
   "execution_count": 17,
   "id": "f0d5937a",
   "metadata": {},
   "outputs": [],
   "source": [
    "t,H=func(0,1,100)\n",
    "c=np.array([1,1,1])\n",
    "N=100\n",
    "U=ModifiedEuler(f2,c,t)\n"
   ]
  },
  {
   "cell_type": "code",
   "execution_count": 18,
   "id": "e9bb3b03",
   "metadata": {},
   "outputs": [],
   "source": [
    "t=np.linspace(0,1,100)\n",
    "x=U[:,0]\n",
    "y=U[:,1]\n",
    "z=U[:,2]\n",
    "ex=np.exp(-t/2)\n",
    "ey=-2*np.exp(-t/2)+3*np.exp(-t/4)\n",
    "ez=(3/2)*np.exp(-t/2)-9*np.exp(-t/4)+(17/2)*np.exp(-t/6)\n",
    "err1=abs(x-ex)\n",
    "err2=abs(y-ey)\n",
    "err3=abs(z-ez)\n"
   ]
  },
  {
   "cell_type": "code",
   "execution_count": 19,
   "id": "a74e8a27",
   "metadata": {
    "scrolled": true
   },
   "outputs": [
    {
     "data": {
      "text/plain": [
       "[<matplotlib.lines.Line2D at 0x12dc948fb50>]"
      ]
     },
     "execution_count": 19,
     "metadata": {},
     "output_type": "execute_result"
    },
    {
     "data": {
      "image/png": "[encoded data removed]",
      "text/plain": [
       "<Figure size 432x288 with 6 Axes>"
      ]
     },
     "metadata": {
      "needs_background": "light"
     },
     "output_type": "display_data"
    }
   ],
   "source": [
    "plt.subplot(2,3,1)\n",
    "plt.plot(t,x,'r',linewidth=4,label='approximate')\n",
    "plt.plot(t,ex,'--b',linewidth=4, label='exact')\n",
    "plt.subplot(2,3,2)\n",
    "plt.plot(t,y,'r',linewidth=4)\n",
    "plt.plot(t,ey,'--b',linewidth=4)\n",
    "plt.subplot(2,3,3)\n",
    "plt.plot(t,z,'r',linewidth=4)\n",
    "plt.plot(t,ez,'--b',linewidth=4)\n",
    "plt.subplot(2,3,4)\n",
    "plt.plot(t,err1,'r',linewidth=3)\n",
    "plt.subplot(2,3,5)\n",
    "plt.plot(t,err2,'r',linewidth=3)\n",
    "plt.subplot(2,3,6)\n",
    "plt.plot(t,err3,linewidth=3)"
   ]
  },
  {
   "cell_type": "markdown",
   "id": "1f95079b",
   "metadata": {},
   "source": [
    "### Third order Runge Kutta"
   ]
  },
  {
   "cell_type": "code",
   "execution_count": 20,
   "id": "85653ad5",
   "metadata": {},
   "outputs": [],
   "source": [
    "def ThirdRungeKutta(f,c,t):\n",
    "    M=len(c)\n",
    "    V=np.zeros((N,M))\n",
    "    V[0]=c\n",
    "    for k in range(0,N-1):\n",
    "        k1=H*np.array(f(V[k],t[k]))\n",
    "        k2=H*np.array(f(V[k]+(1/2)*k1,t[k]+(1/2)*H))\n",
    "        V[k+1]=V[k]+k2\n",
    "    return V"
   ]
  },
  {
   "cell_type": "code",
   "execution_count": 21,
   "id": "90bd6ebd",
   "metadata": {},
   "outputs": [],
   "source": [
    "t,H=func(0,1,100)\n",
    "c=np.array([1,1,1])\n",
    "N=100\n",
    "V=ModifiedEuler(f2,c,t)\n"
   ]
  },
  {
   "cell_type": "code",
   "execution_count": 22,
   "id": "1fa0cc51",
   "metadata": {},
   "outputs": [],
   "source": [
    "t=np.linspace(0,1,100)\n",
    "x=V[:,0]\n",
    "y=V[:,1]\n",
    "z=V[:,2]\n",
    "ex=np.exp(-t/2)\n",
    "ey=-2*np.exp(-t/2)+3*np.exp(-t/4)\n",
    "ez=(3/2)*np.exp(-t/2)-9*np.exp(-t/4)+(17/2)*np.exp(-t/6)\n",
    "err1=abs(x-ex)\n",
    "err2=abs(y-ey)\n",
    "err3=abs(z-ez)"
   ]
  },
  {
   "cell_type": "code",
   "execution_count": 23,
   "id": "59983570",
   "metadata": {},
   "outputs": [
    {
     "data": {
      "text/plain": [
       "[<matplotlib.lines.Line2D at 0x12dc9647a00>]"
      ]
     },
     "execution_count": 23,
     "metadata": {},
     "output_type": "execute_result"
    },
    {
     "data": {
      "image/png": "[encoded data removed]",
      "text/plain": [
       "<Figure size 432x288 with 6 Axes>"
      ]
     },
     "metadata": {
      "needs_background": "light"
     },
     "output_type": "display_data"
    }
   ],
   "source": [
    "plt.subplot(2,3,1)\n",
    "plt.plot(t,x,'r',linewidth=4,label='approximate')\n",
    "plt.plot(t,ex,'--b',linewidth=4, label='exact')\n",
    "plt.subplot(2,3,2)\n",
    "plt.plot(t,y,'r',linewidth=4)\n",
    "plt.plot(t,ey,'--b',linewidth=4)\n",
    "plt.subplot(2,3,3)\n",
    "plt.plot(t,z,'r',linewidth=4)\n",
    "plt.plot(t,ez,'--b',linewidth=4)\n",
    "plt.subplot(2,3,4)\n",
    "plt.plot(t,err1,'r',linewidth=3)\n",
    "plt.subplot(2,3,5)\n",
    "plt.plot(t,err2,'r',linewidth=3)\n",
    "plt.subplot(2,3,6)\n",
    "plt.plot(t,err3,linewidth=3)"
   ]
  },
  {
   "cell_type": "markdown",
   "id": "6fe09db3",
   "metadata": {},
   "source": [
    "### Initial Boundary value problem"
   ]
  },
  {
   "cell_type": "code",
   "execution_count": 24,
   "id": "4153b78d",
   "metadata": {},
   "outputs": [],
   "source": [
    "def sol(N,a,b):\n",
    "    h=(b-a)/(N-1)\n",
    "    A=np.zeros((N,N))\n",
    "    A[0,0]=1\n",
    "    A[N-1,N-1]=1\n",
    "    for i in range(1,N-1):\n",
    "        A[i,i]=-2\n",
    "        A[i,i+1]=1\n",
    "        A[i,i-1]=1\n",
    "    return A\n",
    "        "
   ]
  },
  {
   "cell_type": "code",
   "execution_count": 25,
   "id": "0e262d1c",
   "metadata": {},
   "outputs": [
    {
     "data": {
      "text/plain": [
       "array([[ 1.,  0.,  0.,  0.,  0.,  0.,  0.,  0.,  0.,  0.],\n",
       "       [ 1., -2.,  1.,  0.,  0.,  0.,  0.,  0.,  0.,  0.],\n",
       "       [ 0.,  1., -2.,  1.,  0.,  0.,  0.,  0.,  0.,  0.],\n",
       "       [ 0.,  0.,  1., -2.,  1.,  0.,  0.,  0.,  0.,  0.],\n",
       "       [ 0.,  0.,  0.,  1., -2.,  1.,  0.,  0.,  0.,  0.],\n",
       "       [ 0.,  0.,  0.,  0.,  1., -2.,  1.,  0.,  0.,  0.],\n",
       "       [ 0.,  0.,  0.,  0.,  0.,  1., -2.,  1.,  0.,  0.],\n",
       "       [ 0.,  0.,  0.,  0.,  0.,  0.,  1., -2.,  1.,  0.],\n",
       "       [ 0.,  0.,  0.,  0.,  0.,  0.,  0.,  1., -2.,  1.],\n",
       "       [ 0.,  0.,  0.,  0.,  0.,  0.,  0.,  0.,  0.,  1.]])"
      ]
     },
     "execution_count": 25,
     "metadata": {},
     "output_type": "execute_result"
    }
   ],
   "source": [
    "sol(10,0,1)"
   ]
  },
  {
   "cell_type": "code",
   "execution_count": 26,
   "id": "a3d67159",
   "metadata": {},
   "outputs": [],
   "source": [
    "from math import *\n",
    "def error(x1,x2):\n",
    "    s=0\n",
    "    for i in range(len(x1)):\n",
    "        s=s+(x1[i]-x2[i])**2\n",
    "    return sqrt(s)\n"
   ]
  },
  {
   "cell_type": "markdown",
   "id": "6e5d79b2",
   "metadata": {},
   "source": [
    "### Plot order of convergence"
   ]
  },
  {
   "cell_type": "code",
   "execution_count": 50,
   "id": "2afc5a42",
   "metadata": {},
   "outputs": [],
   "source": [
    "a=0\n",
    "b=1\n",
    "from math import *\n",
    "# H1=[0.01*i for i in range(1,51)]\n",
    "H1=[1/(2**i) for i in range(1,10)]\n",
    "err=[]\n",
    "M=len(H1)\n",
    "G=[]\n",
    "for i in range(M):\n",
    "    H=H1[i]\n",
    "    G=G+[log(H)]\n",
    "    N=int((b-a)/H)+1\n",
    "    t=np.linspace(a,b,N)\n",
    "    exa=np.exp(-t/2)\n",
    "    d=ModifiedEuler(f2,c,t)\n",
    "    y1=d[:,0].reshape(-1,1)\n",
    "    er1=error(exa,y1)\n",
    "    err=err+[log(er1)]"
   ]
  },
  {
   "cell_type": "code",
   "execution_count": null,
   "id": "719b406f",
   "metadata": {},
   "outputs": [],
   "source": []
  },
  {
   "cell_type": "code",
   "execution_count": 51,
   "id": "be46e73c",
   "metadata": {},
   "outputs": [
    {
     "data": {
      "text/plain": [
       "<AxesSubplot:xlabel='logh', ylabel='logerr'>"
      ]
     },
     "execution_count": 51,
     "metadata": {},
     "output_type": "execute_result"
    },
    {
     "data": {
      "image/png": "[encoded data removed]",
      "text/plain": [
       "<Figure size 432x288 with 1 Axes>"
      ]
     },
     "metadata": {
      "needs_background": "light"
     },
     "output_type": "display_data"
    }
   ],
   "source": [
    "data={'logh': G,'logerr': err }\n",
    "data=pd.DataFrame(data)\n",
    "sns.scatterplot(data=data,\n",
    "               x='logh',\n",
    "               y='logerr')\n"
   ]
  },
  {
   "cell_type": "code",
   "execution_count": 52,
   "id": "036cf122",
   "metadata": {},
   "outputs": [
    {
     "name": "stdout",
     "output_type": "stream",
     "text": [
      "intercept: \n",
      " [-2.71539443]\n"
     ]
    }
   ],
   "source": [
    "X=data[\"logh\"].values.reshape(-1,1)\n",
    "y=data[\"logerr\"].values.reshape(-1,1)\n",
    "X_train,X_test,y_train,y_test=train_test_split(X,y,test_size=0.2,random_state=0)\n",
    "# creation of our linear regression\n",
    "reg=linear_model.Ridge(alpha=0.5)\n",
    "reg.fit(X_train,y_train)\n",
    "y_pred=reg.predict(X_test)\n",
    "# The coefficients\n",
    "coef= reg.coef_\n",
    "coef=coef[0]\n",
    "intercept= reg.intercept_\n",
    "print('intercept: \\n', reg.intercept_)\n",
    "# The mean squared error"
   ]
  },
  {
   "cell_type": "code",
   "execution_count": 53,
   "id": "a5143649",
   "metadata": {},
   "outputs": [
    {
     "data": {
      "text/plain": [
       "[<matplotlib.lines.Line2D at 0x12dc9505670>]"
      ]
     },
     "execution_count": 53,
     "metadata": {},
     "output_type": "execute_result"
    },
    {
     "data": {
      "image/png": "[encoded data removed]",
      "text/plain": [
       "<Figure size 432x288 with 1 Axes>"
      ]
     },
     "metadata": {
      "needs_background": "light"
     },
     "output_type": "display_data"
    }
   ],
   "source": [
    "a=coef[0]\n",
    "b=intercept[0]\n",
    "y=a*t+b\n",
    "sns.scatterplot(data=data,\n",
    "               x='logh',\n",
    "               y='logerr')\n",
    "plt.plot(t,y)"
   ]
  },
  {
   "cell_type": "code",
   "execution_count": null,
   "id": "3b57038a",
   "metadata": {},
   "outputs": [],
   "source": []
  },
  {
   "cell_type": "code",
   "execution_count": null,
   "id": "9e0fbea3",
   "metadata": {},
   "outputs": [],
   "source": []
  },
  {
   "cell_type": "code",
   "execution_count": 55,
   "id": "e1d547b2",
   "metadata": {},
   "outputs": [
    {
     "name": "stdout",
     "output_type": "stream",
     "text": [
      "2\n"
     ]
    }
   ],
   "source": []
  },
  {
   "cell_type": "code",
   "execution_count": 44,
   "id": "a93cfceb",
   "metadata": {},
   "outputs": [
    {
     "ename": "NameError",
     "evalue": "name 'logerr' is not defined",
     "output_type": "error",
     "traceback": [
      "\u001b[1;31m---------------------------------------------------------------------------\u001b[0m",
      "\u001b[1;31mNameError\u001b[0m                                 Traceback (most recent call last)",
      "\u001b[1;32m<ipython-input-44-ee51c82cfeba>\u001b[0m in \u001b[0;36m<module>\u001b[1;34m\u001b[0m\n\u001b[1;32m----> 1\u001b[1;33m \u001b[0mlogerr\u001b[0m\u001b[1;33m\u001b[0m\u001b[1;33m\u001b[0m\u001b[0m\n\u001b[0m",
      "\u001b[1;31mNameError\u001b[0m: name 'logerr' is not defined"
     ]
    }
   ],
   "source": [
    "logerr"
   ]
  },
  {
   "cell_type": "code",
   "execution_count": null,
   "id": "4d47ca04",
   "metadata": {},
   "outputs": [],
   "source": []
  }
 ],
 "metadata": {
  "kernelspec": {
   "display_name": "Python 3",
   "language": "python",
   "name": "python3"
  },
  "language_info": {
   "codemirror_mode": {
    "name": "ipython",
    "version": 3
   },
   "file_extension": ".py",
   "mimetype": "text/x-python",
   "name": "python",
   "nbconvert_exporter": "python",
   "pygments_lexer": "ipython3",
   "version": "3.8.8"
  }
 },
 "nbformat": 4,
 "nbformat_minor": 5
}
